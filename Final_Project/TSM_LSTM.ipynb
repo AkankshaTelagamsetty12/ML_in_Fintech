{
 "cells": [
  {
   "cell_type": "markdown",
   "metadata": {},
   "source": [
    "## LONG SHORT TERM MEMORY FOR TSM STOCK"
   ]
  },
  {
   "cell_type": "code",
   "execution_count": 1,
   "metadata": {},
   "outputs": [],
   "source": [
    "# Importing all the required packages and libraries\n",
    "\n",
    "import math\n",
    "from math import sqrt\n",
    "import pandas_datareader as web\n",
    "import numpy as np\n",
    "import pandas as pd\n",
    "from sklearn.preprocessing import MinMaxScaler\n",
    "from keras.models import Sequential\n",
    "from keras.layers import Dense, LSTM\n",
    "import matplotlib.pyplot as plt\n",
    "from sklearn.metrics import mean_squared_error, r2_score\n",
    "from keras.layers import Dense, Activation\n",
    "\n",
    "import sys\n",
    "import warnings\n",
    "\n",
    "if not sys.warnoptions:\n",
    "    warnings.simplefilter(\"ignore\")"
   ]
  },
  {
   "cell_type": "code",
   "execution_count": 2,
   "metadata": {},
   "outputs": [
    {
     "data": {
      "text/html": [
       "<div>\n",
       "<style scoped>\n",
       "    .dataframe tbody tr th:only-of-type {\n",
       "        vertical-align: middle;\n",
       "    }\n",
       "\n",
       "    .dataframe tbody tr th {\n",
       "        vertical-align: top;\n",
       "    }\n",
       "\n",
       "    .dataframe thead th {\n",
       "        text-align: right;\n",
       "    }\n",
       "</style>\n",
       "<table border=\"1\" class=\"dataframe\">\n",
       "  <thead>\n",
       "    <tr style=\"text-align: right;\">\n",
       "      <th></th>\n",
       "      <th>High</th>\n",
       "      <th>Low</th>\n",
       "      <th>Open</th>\n",
       "      <th>Close</th>\n",
       "      <th>Volume</th>\n",
       "      <th>Adj Close</th>\n",
       "    </tr>\n",
       "    <tr>\n",
       "      <th>Date</th>\n",
       "      <th></th>\n",
       "      <th></th>\n",
       "      <th></th>\n",
       "      <th></th>\n",
       "      <th></th>\n",
       "      <th></th>\n",
       "    </tr>\n",
       "  </thead>\n",
       "  <tbody>\n",
       "    <tr>\n",
       "      <th>2012-10-01</th>\n",
       "      <td>15.940000</td>\n",
       "      <td>15.700000</td>\n",
       "      <td>15.730000</td>\n",
       "      <td>15.900000</td>\n",
       "      <td>19411300.0</td>\n",
       "      <td>11.899861</td>\n",
       "    </tr>\n",
       "    <tr>\n",
       "      <th>2012-10-02</th>\n",
       "      <td>16.059999</td>\n",
       "      <td>15.860000</td>\n",
       "      <td>15.980000</td>\n",
       "      <td>16.000000</td>\n",
       "      <td>17701800.0</td>\n",
       "      <td>11.974704</td>\n",
       "    </tr>\n",
       "    <tr>\n",
       "      <th>2012-10-03</th>\n",
       "      <td>16.049999</td>\n",
       "      <td>15.820000</td>\n",
       "      <td>16.040001</td>\n",
       "      <td>16.049999</td>\n",
       "      <td>13156700.0</td>\n",
       "      <td>12.012122</td>\n",
       "    </tr>\n",
       "    <tr>\n",
       "      <th>2012-10-04</th>\n",
       "      <td>16.170000</td>\n",
       "      <td>16.000000</td>\n",
       "      <td>16.040001</td>\n",
       "      <td>16.160000</td>\n",
       "      <td>15213900.0</td>\n",
       "      <td>12.094449</td>\n",
       "    </tr>\n",
       "    <tr>\n",
       "      <th>2012-10-05</th>\n",
       "      <td>16.309999</td>\n",
       "      <td>16.030001</td>\n",
       "      <td>16.160000</td>\n",
       "      <td>16.070000</td>\n",
       "      <td>10687600.0</td>\n",
       "      <td>12.027092</td>\n",
       "    </tr>\n",
       "    <tr>\n",
       "      <th>2012-10-08</th>\n",
       "      <td>15.840000</td>\n",
       "      <td>15.480000</td>\n",
       "      <td>15.840000</td>\n",
       "      <td>15.530000</td>\n",
       "      <td>12827100.0</td>\n",
       "      <td>11.622946</td>\n",
       "    </tr>\n",
       "    <tr>\n",
       "      <th>2012-10-09</th>\n",
       "      <td>15.450000</td>\n",
       "      <td>15.240000</td>\n",
       "      <td>15.430000</td>\n",
       "      <td>15.360000</td>\n",
       "      <td>9900400.0</td>\n",
       "      <td>11.495714</td>\n",
       "    </tr>\n",
       "    <tr>\n",
       "      <th>2012-10-10</th>\n",
       "      <td>15.390000</td>\n",
       "      <td>15.110000</td>\n",
       "      <td>15.320000</td>\n",
       "      <td>15.120000</td>\n",
       "      <td>10169200.0</td>\n",
       "      <td>11.316093</td>\n",
       "    </tr>\n",
       "    <tr>\n",
       "      <th>2012-10-11</th>\n",
       "      <td>15.240000</td>\n",
       "      <td>15.000000</td>\n",
       "      <td>15.190000</td>\n",
       "      <td>15.030000</td>\n",
       "      <td>8288900.0</td>\n",
       "      <td>11.248735</td>\n",
       "    </tr>\n",
       "    <tr>\n",
       "      <th>2012-10-12</th>\n",
       "      <td>15.160000</td>\n",
       "      <td>15.050000</td>\n",
       "      <td>15.130000</td>\n",
       "      <td>15.120000</td>\n",
       "      <td>11019600.0</td>\n",
       "      <td>11.316093</td>\n",
       "    </tr>\n",
       "  </tbody>\n",
       "</table>\n",
       "</div>"
      ],
      "text/plain": [
       "                 High        Low       Open      Close      Volume  Adj Close\n",
       "Date                                                                         \n",
       "2012-10-01  15.940000  15.700000  15.730000  15.900000  19411300.0  11.899861\n",
       "2012-10-02  16.059999  15.860000  15.980000  16.000000  17701800.0  11.974704\n",
       "2012-10-03  16.049999  15.820000  16.040001  16.049999  13156700.0  12.012122\n",
       "2012-10-04  16.170000  16.000000  16.040001  16.160000  15213900.0  12.094449\n",
       "2012-10-05  16.309999  16.030001  16.160000  16.070000  10687600.0  12.027092\n",
       "2012-10-08  15.840000  15.480000  15.840000  15.530000  12827100.0  11.622946\n",
       "2012-10-09  15.450000  15.240000  15.430000  15.360000   9900400.0  11.495714\n",
       "2012-10-10  15.390000  15.110000  15.320000  15.120000  10169200.0  11.316093\n",
       "2012-10-11  15.240000  15.000000  15.190000  15.030000   8288900.0  11.248735\n",
       "2012-10-12  15.160000  15.050000  15.130000  15.120000  11019600.0  11.316093"
      ]
     },
     "execution_count": 2,
     "metadata": {},
     "output_type": "execute_result"
    }
   ],
   "source": [
    "#Fetching data for TSM Stock for 10 years\n",
    "\n",
    "df = web.DataReader('TSM', data_source='yahoo', start='2012-09-30', end='2022-09-30') \n",
    "df.head(10)"
   ]
  },
  {
   "cell_type": "code",
   "execution_count": 3,
   "metadata": {},
   "outputs": [
    {
     "name": "stdout",
     "output_type": "stream",
     "text": [
      "(2517, 6)\n"
     ]
    }
   ],
   "source": [
    "print(df.shape)"
   ]
  },
  {
   "cell_type": "code",
   "execution_count": 4,
   "metadata": {},
   "outputs": [
    {
     "data": {
      "image/png": "[encoded data removed]",
      "text/plain": [
       "<Figure size 1152x576 with 1 Axes>"
      ]
     },
     "metadata": {
      "needs_background": "light"
     },
     "output_type": "display_data"
    }
   ],
   "source": [
    "# Visualize the closing price history for TSM stock\n",
    "\n",
    "plt.figure(figsize=(16,8))\n",
    "plt.title('Close Price History[TSM]')\n",
    "plt.plot(df['Close'], color='b')\n",
    "plt.xlabel('Date',fontsize=18)\n",
    "plt.ylabel('Close Price (USD)',fontsize=18)\n",
    "plt.show()"
   ]
  },
  {
   "cell_type": "code",
   "execution_count": 5,
   "metadata": {},
   "outputs": [],
   "source": [
    "# Create a new dataframe with only the 'Close' column.\n",
    "data = df.filter(['Close'])\n",
    "\n",
    "# Converting the dataframe to a numpy array.\n",
    "dataset = data.values\n",
    "\n",
    "# Compute the number of rows to train the model on.\n",
    "\n",
    "training_data_len = math.ceil( len(dataset) *.8)"
   ]
  },
  {
   "cell_type": "code",
   "execution_count": 6,
   "metadata": {},
   "outputs": [],
   "source": [
    "# Min-Max Normalization.\n",
    "scaler = MinMaxScaler(feature_range=(0, 1)) \n",
    "scaled_data = scaler.fit_transform(dataset)"
   ]
  },
  {
   "cell_type": "code",
   "execution_count": 7,
   "metadata": {},
   "outputs": [],
   "source": [
    "# Create the scaled training dataset.\n",
    "train_data = scaled_data[0:training_data_len, :]\n",
    "\n",
    "# Split the data into X_train and y_train data sets\n",
    "X_train=[]\n",
    "y_train = []\n",
    "\n",
    "for i in range(60,len(train_data)):\n",
    "    X_train.append(train_data[i-60:i,0])\n",
    "    y_train.append(train_data[i,0])"
   ]
  },
  {
   "cell_type": "code",
   "execution_count": 8,
   "metadata": {},
   "outputs": [],
   "source": [
    "# Convert x_train and y_train to numpy arrays.\n",
    "X_train, y_train = np.array(X_train), np.array(y_train)"
   ]
  },
  {
   "cell_type": "code",
   "execution_count": 9,
   "metadata": {},
   "outputs": [],
   "source": [
    "# Reshape the data into the shape accepted by the LSTM.\n",
    "X_train = np.reshape(X_train, (X_train.shape[0],X_train.shape[1],1))"
   ]
  },
  {
   "cell_type": "code",
   "execution_count": 10,
   "metadata": {},
   "outputs": [
    {
     "name": "stdout",
     "output_type": "stream",
     "text": [
      "Model: \"sequential\"\n",
      "_________________________________________________________________\n",
      " Layer (type)                Output Shape              Param #   \n",
      "=================================================================\n",
      " lstm (LSTM)                 (None, 60, 50)            10400     \n",
      "                                                                 \n",
      " lstm_1 (LSTM)               (None, 25)                7600      \n",
      "                                                                 \n",
      " activation (Activation)     (None, 25)                0         \n",
      "                                                                 \n",
      " dense (Dense)               (None, 1)                 26        \n",
      "                                                                 \n",
      "=================================================================\n",
      "Total params: 18,026\n",
      "Trainable params: 18,026\n",
      "Non-trainable params: 0\n",
      "_________________________________________________________________\n"
     ]
    }
   ],
   "source": [
    "# Build the LSTM network model.\n",
    "model = Sequential()\n",
    "model.add(LSTM(units=50, return_sequences=True, input_shape=(X_train.shape[1],1)))\n",
    "model.add(LSTM(units=25, return_sequences=False))\n",
    "model.add(Activation('linear'))\n",
    "model.add(Dense(units=1))\n",
    "model.summary()"
   ]
  },
  {
   "cell_type": "code",
   "execution_count": 11,
   "metadata": {},
   "outputs": [],
   "source": [
    "# Compile the model.\n",
    "model.compile(optimizer='adam', loss='mean_squared_error')"
   ]
  },
  {
   "cell_type": "code",
   "execution_count": 12,
   "metadata": {},
   "outputs": [
    {
     "name": "stdout",
     "output_type": "stream",
     "text": [
      "Epoch 1/10\n",
      "1954/1954 [==============================] - 33s 16ms/step - loss: 2.9958e-04\n",
      "Epoch 2/10\n",
      "1954/1954 [==============================] - 31s 16ms/step - loss: 1.3549e-04\n",
      "Epoch 3/10\n",
      "1954/1954 [==============================] - 31s 16ms/step - loss: 1.2584e-04\n",
      "Epoch 4/10\n",
      "1954/1954 [==============================] - 31s 16ms/step - loss: 1.0845e-04\n",
      "Epoch 5/10\n",
      "1954/1954 [==============================] - 31s 16ms/step - loss: 8.7097e-05\n",
      "Epoch 6/10\n",
      "1954/1954 [==============================] - 31s 16ms/step - loss: 9.0007e-05\n",
      "Epoch 7/10\n",
      "1954/1954 [==============================] - 31s 16ms/step - loss: 8.7861e-05\n",
      "Epoch 8/10\n",
      "1954/1954 [==============================] - 31s 16ms/step - loss: 7.9369e-05\n",
      "Epoch 9/10\n",
      "1954/1954 [==============================] - 31s 16ms/step - loss: 8.5189e-05\n",
      "Epoch 10/10\n",
      "1954/1954 [==============================] - 31s 16ms/step - loss: 6.8633e-05\n"
     ]
    },
    {
     "data": {
      "text/plain": [
       "<keras.callbacks.History at 0x2466ab20100>"
      ]
     },
     "execution_count": 12,
     "metadata": {},
     "output_type": "execute_result"
    }
   ],
   "source": [
    "# Train the model.\n",
    "model.fit(X_train, y_train, batch_size=1, epochs=10)"
   ]
  },
  {
   "cell_type": "code",
   "execution_count": 13,
   "metadata": {},
   "outputs": [],
   "source": [
    "# Test dataset.\n",
    "test_data = scaled_data[training_data_len-60:, :]\n",
    "\n",
    "# Create the x_test and y_test datasets.\n",
    "X_test = []\n",
    "y_test =  dataset[training_data_len:, :]\n",
    "for i in range(60,len(test_data)):\n",
    "    X_test.append(test_data[i-60:i, 0])"
   ]
  },
  {
   "cell_type": "code",
   "execution_count": 14,
   "metadata": {},
   "outputs": [],
   "source": [
    "# Convert x_test to a numpy array.\n",
    "X_test = np.array(X_test)"
   ]
  },
  {
   "cell_type": "code",
   "execution_count": 15,
   "metadata": {},
   "outputs": [],
   "source": [
    "# Reshape the data into the shape accepted by the LSTM.\n",
    "X_test = np.reshape(X_test, (X_test.shape[0], X_test.shape[1], 1))"
   ]
  },
  {
   "cell_type": "code",
   "execution_count": 16,
   "metadata": {},
   "outputs": [
    {
     "name": "stdout",
     "output_type": "stream",
     "text": [
      "16/16 [==============================] - 1s 9ms/step\n"
     ]
    }
   ],
   "source": [
    "# Getting the models predicted price values.\n",
    "predictions = model.predict(X_test)\n",
    "predictions = scaler.inverse_transform(predictions) #Undo scaling"
   ]
  },
  {
   "cell_type": "code",
   "execution_count": 17,
   "metadata": {},
   "outputs": [],
   "source": [
    "# Calculate/Get the value of RMSE.\n",
    "rmse = np.sqrt(np.mean(((predictions- y_test)**2)))\n",
    "mse = mean_squared_error(predictions,y_test)\n",
    "rmse_new = sqrt(mse)\n",
    "r = r2_score(predictions,y_test)"
   ]
  },
  {
   "cell_type": "code",
   "execution_count": 21,
   "metadata": {},
   "outputs": [
    {
     "name": "stdout",
     "output_type": "stream",
     "text": [
      "R-Squared Score = 0.831464077449926 \n"
     ]
    }
   ],
   "source": [
    "# print('RMSE = {}',rmse)\n",
    "print('R-Squared Score = {} '.format(r))"
   ]
  },
  {
   "cell_type": "code",
   "execution_count": 22,
   "metadata": {},
   "outputs": [],
   "source": [
    "# Plot/Create the data for the graph.\n",
    "train = data[:training_data_len]\n",
    "valid = data[training_data_len:]\n",
    "valid['Predictions'] = predictions"
   ]
  },
  {
   "cell_type": "code",
   "execution_count": 24,
   "metadata": {},
   "outputs": [
    {
     "name": "stdout",
     "output_type": "stream",
     "text": [
      "R-Squared Score = {} 0.831464077449926\n"
     ]
    },
    {
     "data": {
      "image/png": "[encoded data removed]",
      "text/plain": [
       "<Figure size 1152x576 with 1 Axes>"
      ]
     },
     "metadata": {
      "needs_background": "light"
     },
     "output_type": "display_data"
    }
   ],
   "source": [
    "# Visualize the data.\n",
    "print('R-Squared Score = {}',r)\n",
    "plt.figure(figsize=(16,8))\n",
    "plt.title('Model')\n",
    "plt.xlabel('Date', fontsize=18)\n",
    "plt.ylabel('Close Price (USD)', fontsize=18)\n",
    "plt.plot(train['Close'])\n",
    "plt.plot(valid[['Close', 'Predictions']])\n",
    "plt.legend(['Train', 'Validation', 'Predictions'], loc='lower right')\n",
    "plt.show()"
   ]
  },
  {
   "cell_type": "code",
   "execution_count": 25,
   "metadata": {},
   "outputs": [
    {
     "data": {
      "text/html": [
       "<div>\n",
       "<style scoped>\n",
       "    .dataframe tbody tr th:only-of-type {\n",
       "        vertical-align: middle;\n",
       "    }\n",
       "\n",
       "    .dataframe tbody tr th {\n",
       "        vertical-align: top;\n",
       "    }\n",
       "\n",
       "    .dataframe thead th {\n",
       "        text-align: right;\n",
       "    }\n",
       "</style>\n",
       "<table border=\"1\" class=\"dataframe\">\n",
       "  <thead>\n",
       "    <tr style=\"text-align: right;\">\n",
       "      <th></th>\n",
       "      <th>Close</th>\n",
       "      <th>Predictions</th>\n",
       "    </tr>\n",
       "    <tr>\n",
       "      <th>Date</th>\n",
       "      <th></th>\n",
       "      <th></th>\n",
       "    </tr>\n",
       "  </thead>\n",
       "  <tbody>\n",
       "    <tr>\n",
       "      <th>2020-10-02</th>\n",
       "      <td>80.800003</td>\n",
       "      <td>81.252052</td>\n",
       "    </tr>\n",
       "    <tr>\n",
       "      <th>2020-10-05</th>\n",
       "      <td>84.540001</td>\n",
       "      <td>79.952194</td>\n",
       "    </tr>\n",
       "    <tr>\n",
       "      <th>2020-10-06</th>\n",
       "      <td>83.120003</td>\n",
       "      <td>82.727692</td>\n",
       "    </tr>\n",
       "    <tr>\n",
       "      <th>2020-10-07</th>\n",
       "      <td>86.919998</td>\n",
       "      <td>82.025002</td>\n",
       "    </tr>\n",
       "    <tr>\n",
       "      <th>2020-10-08</th>\n",
       "      <td>87.800003</td>\n",
       "      <td>84.945602</td>\n",
       "    </tr>\n",
       "    <tr>\n",
       "      <th>...</th>\n",
       "      <td>...</td>\n",
       "      <td>...</td>\n",
       "    </tr>\n",
       "    <tr>\n",
       "      <th>2022-09-26</th>\n",
       "      <td>73.010002</td>\n",
       "      <td>73.346352</td>\n",
       "    </tr>\n",
       "    <tr>\n",
       "      <th>2022-09-27</th>\n",
       "      <td>73.029999</td>\n",
       "      <td>72.372398</td>\n",
       "    </tr>\n",
       "    <tr>\n",
       "      <th>2022-09-28</th>\n",
       "      <td>72.129997</td>\n",
       "      <td>72.269753</td>\n",
       "    </tr>\n",
       "    <tr>\n",
       "      <th>2022-09-29</th>\n",
       "      <td>69.279999</td>\n",
       "      <td>71.573074</td>\n",
       "    </tr>\n",
       "    <tr>\n",
       "      <th>2022-09-30</th>\n",
       "      <td>68.559998</td>\n",
       "      <td>69.134560</td>\n",
       "    </tr>\n",
       "  </tbody>\n",
       "</table>\n",
       "<p>503 rows × 2 columns</p>\n",
       "</div>"
      ],
      "text/plain": [
       "                Close  Predictions\n",
       "Date                              \n",
       "2020-10-02  80.800003    81.252052\n",
       "2020-10-05  84.540001    79.952194\n",
       "2020-10-06  83.120003    82.727692\n",
       "2020-10-07  86.919998    82.025002\n",
       "2020-10-08  87.800003    84.945602\n",
       "...               ...          ...\n",
       "2022-09-26  73.010002    73.346352\n",
       "2022-09-27  73.029999    72.372398\n",
       "2022-09-28  72.129997    72.269753\n",
       "2022-09-29  69.279999    71.573074\n",
       "2022-09-30  68.559998    69.134560\n",
       "\n",
       "[503 rows x 2 columns]"
      ]
     },
     "execution_count": 25,
     "metadata": {},
     "output_type": "execute_result"
    }
   ],
   "source": [
    "valid"
   ]
  },
  {
   "cell_type": "code",
   "execution_count": null,
   "metadata": {},
   "outputs": [],
   "source": []
  },
  {
   "cell_type": "code",
   "execution_count": null,
   "metadata": {},
   "outputs": [],
   "source": []
  }
 ],
 "metadata": {
  "kernelspec": {
   "display_name": "Python 3 (ipykernel)",
   "language": "python",
   "name": "python3"
  },
  "language_info": {
   "codemirror_mode": {
    "name": "ipython",
    "version": 3
   },
   "file_extension": ".py",
   "mimetype": "text/x-python",
   "name": "python",
   "nbconvert_exporter": "python",
   "pygments_lexer": "ipython3",
   "version": "3.9.7"
  }
 },
 "nbformat": 4,
 "nbformat_minor": 4
}
